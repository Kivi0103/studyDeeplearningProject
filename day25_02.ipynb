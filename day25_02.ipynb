{
 "cells": [
  {
   "cell_type": "code",
   "execution_count": 4,
   "metadata": {
    "collapsed": true
   },
   "outputs": [
    {
     "name": "stdout",
     "output_type": "stream",
     "text": [
      "Model accuracy: 57.14\n"
     ]
    }
   ],
   "source": [
    "import pandas as pd\n",
    "import torch\n",
    "import torch.nn as nn\n",
    "import torch.optim as optim\n",
    "from torch.utils.data import DataLoader\n",
    "from sklearn.preprocessing import LabelEncoder\n",
    "from sklearn.model_selection import train_test_split\n",
    "\n",
    "data = pd.read_csv(\"data/sonar_dataset.csv\", header=None)\n",
    "X = data.iloc[:, 0:60].values\n",
    "y = data.iloc[:, 60].values\n",
    "\n",
    "encoder = LabelEncoder()\n",
    "encoder.fit(y)\n",
    "y = encoder.transform(y)\n",
    "\n",
    "X = torch.tensor(X,dtype=torch.float32)\n",
    "y = torch.tensor(y,dtype=torch.float32).reshape(-1,1)\n",
    "\n",
    "#将数据按照7：3拆分成训练集和测试集\n",
    "X_train, X_test, y_train, y_test = train_test_split(X, y, train_size=0.7, shuffle=True) #也可以使用trainset, testset = random_split(dataset, [0.7, 0.3])来拆分训练集和测试集\n",
    "\n",
    "loader = DataLoader(list(zip(X_train,y_train)), shuffle=True, batch_size=16)\n",
    "\n",
    "model = nn.Sequential(\n",
    "    nn.Linear(60,60),\n",
    "    nn.ReLU(),\n",
    "    nn.Linear(60,30),\n",
    "    nn.ReLU(),\n",
    "    nn.Linear(30,1),\n",
    "    nn.Sigmoid()\n",
    ")\n",
    "\n",
    "n_epochs = 200\n",
    "loss_fn = nn.BCELoss()\n",
    "optimizer = optim.SGD(model.parameters(), lr=0.1)#创建了一个随机梯度下降（SGD）优化器\n",
    "model.train()\n",
    "for epoch in range(n_epochs):\n",
    "    for X_batch, y_batch in loader:\n",
    "        y_pred = model(X_batch)\n",
    "        loss = loss_fn(y_pred, y_batch)\n",
    "        optimizer.zero_grad() #将之前的梯度信息归零，以准备计算新一轮的梯度\n",
    "        loss.backward() #反向传播计算梯度\n",
    "        optimizer.step() #使用优化器根据计算得到的梯度来更新模型的参数\n",
    "\n",
    "model.eval()#将模型切换到评估模式（evaluation mode）\n",
    "y_pred = model(X_test)\n",
    "acc = (y_pred.round() == y_test).float().mean()\n",
    "acc = float(acc)\n",
    "print(\"Model accuracy: %.2f\" % (acc*100))"
   ]
  },
  {
   "cell_type": "code",
   "execution_count": 5,
   "outputs": [],
   "source": [
    "#使用Dataset创建数据集,继承Dataset类，并重写init，len，getitem函数\n",
    "from torch.utils.data import Dataset\n",
    "class SonarDataset(Dataset):\n",
    "    def __init__(self, X, y):\n",
    "        self.X = torch.tensor(X, dtype=torch.float32)\n",
    "        self.y = torch.tensor(y, dtype=torch.float32)\n",
    "\n",
    "    def __len__(self):\n",
    "        return len(self.X)\n",
    "\n",
    "    def __getitem__(self, idx):\n",
    "        features = self.X[idx]\n",
    "        target = self.y[idx]\n",
    "        return features, target"
   ],
   "metadata": {
    "collapsed": false,
    "pycharm": {
     "name": "#%%\n"
    }
   }
  },
  {
   "cell_type": "code",
   "execution_count": 7,
   "outputs": [
    {
     "name": "stderr",
     "output_type": "stream",
     "text": [
      "C:\\Users\\Kivi\\AppData\\Local\\Temp\\ipykernel_19072\\560532419.py:5: UserWarning: To copy construct from a tensor, it is recommended to use sourceTensor.clone().detach() or sourceTensor.clone().detach().requires_grad_(True), rather than torch.tensor(sourceTensor).\n",
      "  self.X = torch.tensor(X, dtype=torch.float32)\n",
      "C:\\Users\\Kivi\\AppData\\Local\\Temp\\ipykernel_19072\\560532419.py:6: UserWarning: To copy construct from a tensor, it is recommended to use sourceTensor.clone().detach() or sourceTensor.clone().detach().requires_grad_(True), rather than torch.tensor(sourceTensor).\n",
      "  self.y = torch.tensor(y, dtype=torch.float32)\n"
     ]
    },
    {
     "name": "stdout",
     "output_type": "stream",
     "text": [
      "Model accuracy: 73.02%\n"
     ]
    },
    {
     "name": "stderr",
     "output_type": "stream",
     "text": [
      "C:\\Users\\Kivi\\AppData\\Local\\Temp\\ipykernel_19072\\4255586555.py:30: UserWarning: To copy construct from a tensor, it is recommended to use sourceTensor.clone().detach() or sourceTensor.clone().detach().requires_grad_(True), rather than torch.tensor(sourceTensor).\n",
      "  y_pred = model(torch.tensor(X_test, dtype=torch.float32))\n",
      "C:\\Users\\Kivi\\AppData\\Local\\Temp\\ipykernel_19072\\4255586555.py:31: UserWarning: To copy construct from a tensor, it is recommended to use sourceTensor.clone().detach() or sourceTensor.clone().detach().requires_grad_(True), rather than torch.tensor(sourceTensor).\n",
      "  y_test = torch.tensor(y_test, dtype=torch.float32)\n"
     ]
    }
   ],
   "source": [
    "#使用Dataset以及结合DataLoader完成数据初始化\n",
    "dataset = SonarDataset(X_train, y_train)\n",
    "loader = DataLoader(dataset, shuffle=True, batch_size=16)\n",
    "\n",
    "# create model\n",
    "model = nn.Sequential(\n",
    "    nn.Linear(60, 60),\n",
    "    nn.ReLU(),\n",
    "    nn.Linear(60, 30),\n",
    "    nn.ReLU(),\n",
    "    nn.Linear(30, 1),\n",
    "    nn.Sigmoid()\n",
    ")\n",
    "\n",
    "# Train the model\n",
    "n_epochs = 200\n",
    "loss_fn = nn.BCELoss()\n",
    "optimizer = optim.SGD(model.parameters(), lr=0.1)\n",
    "model.train()\n",
    "for epoch in range(n_epochs):\n",
    "    for X_batch, y_batch in loader:\n",
    "        y_pred = model(X_batch)\n",
    "        loss = loss_fn(y_pred, y_batch)\n",
    "        optimizer.zero_grad()\n",
    "        loss.backward()\n",
    "        optimizer.step()\n",
    "\n",
    "# evaluate accuracy after training\n",
    "model.eval()\n",
    "y_pred = model(torch.tensor(X_test, dtype=torch.float32))\n",
    "y_test = torch.tensor(y_test, dtype=torch.float32)\n",
    "acc = (y_pred.round() == y_test).float().mean()#.round() 操作后，将预测的浮点数值四舍五入为最接近的整数。这是因为在二元分类问题中，模型的输出一般是一个介于 0 到 1 之间的浮点数，代表属于正类的概率。通过将其四舍五入，可以将它转换为二元标签（0 或 1）\n",
    "acc = float(acc)\n",
    "print(\"Model accuracy: %.2f%%\" % (acc*100))"
   ],
   "metadata": {
    "collapsed": false,
    "pycharm": {
     "name": "#%%\n"
    }
   }
  },
  {
   "cell_type": "code",
   "execution_count": null,
   "outputs": [],
   "source": [],
   "metadata": {
    "collapsed": false,
    "pycharm": {
     "name": "#%%\n"
    }
   }
  }
 ],
 "metadata": {
  "kernelspec": {
   "display_name": "Python 3",
   "language": "python",
   "name": "python3"
  },
  "language_info": {
   "codemirror_mode": {
    "name": "ipython",
    "version": 2
   },
   "file_extension": ".py",
   "mimetype": "text/x-python",
   "name": "python",
   "nbconvert_exporter": "python",
   "pygments_lexer": "ipython2",
   "version": "2.7.6"
  }
 },
 "nbformat": 4,
 "nbformat_minor": 0
}
{
 "cells": [
  {
   "cell_type": "code",
   "execution_count": 1,
   "metadata": {
    "collapsed": true
   },
   "outputs": [
    {
     "name": "stdout",
     "output_type": "stream",
     "text": [
      "None\n"
     ]
    }
   ],
   "source": [
    "#《7自动求导》的代码\n",
    "import torch\n",
    "x = torch.arange(4.0,requires_grad=True)#requires_grad=True表示自动计算并存储梯度，之后可以使用.grad来访问梯度\n",
    "print(x.grad)#默认值是None"
   ]
  },
  {
   "cell_type": "code",
   "execution_count": 2,
   "outputs": [
    {
     "data": {
      "text/plain": "tensor(28., grad_fn=<MulBackward0>)"
     },
     "execution_count": 2,
     "metadata": {},
     "output_type": "execute_result"
    }
   ],
   "source": [
    "y = 2 * torch.dot(x,x)\n",
    "y"
   ],
   "metadata": {
    "collapsed": false,
    "pycharm": {
     "name": "#%%\n"
    }
   }
  },
  {
   "cell_type": "code",
   "execution_count": 3,
   "outputs": [
    {
     "data": {
      "text/plain": "(tensor([ 0.,  4.,  8., 12.]), tensor([True, True, True, True]))"
     },
     "execution_count": 3,
     "metadata": {},
     "output_type": "execute_result"
    }
   ],
   "source": [
    "#通过调用反向传播函数来自动计算y关于x每个分量的梯度\n",
    "y.backward()\n",
    "#因为y = 2*x.T*x=2*[x1*x1+x2*x2+x3*x3+x4*x4],所以y关于各个x分量的梯度等于4*x\n",
    "x.grad,x.grad == 4 * x"
   ],
   "metadata": {
    "collapsed": false,
    "pycharm": {
     "name": "#%%\n"
    }
   }
  },
  {
   "cell_type": "code",
   "execution_count": 4,
   "outputs": [
    {
     "data": {
      "text/plain": "tensor([1., 1., 1., 1.])"
     },
     "execution_count": 4,
     "metadata": {},
     "output_type": "execute_result"
    }
   ],
   "source": [
    "#默认情况下，pytorch会累加梯度，我们需要清除之前的值\n",
    "x.grad.zero_()#清除梯度,注意是zero_()不是zero(),在后面加一个下划线表示用0替换原来向量中的元素\n",
    "y = x.sum()\n",
    "y.backward()\n",
    "x.grad#因为y=x1+x2+x3+x4,所以y关于各个x分量的梯度都是1"
   ],
   "metadata": {
    "collapsed": false,
    "pycharm": {
     "name": "#%%\n"
    }
   }
  },
  {
   "cell_type": "code",
   "execution_count": 5,
   "outputs": [
    {
     "data": {
      "text/plain": "tensor([0., 2., 4., 6.])"
     },
     "execution_count": 5,
     "metadata": {},
     "output_type": "execute_result"
    }
   ],
   "source": [
    "#深度学习中，我们的目的不是计算微分矩阵，而是批量中的每个样本单独计算的偏导数之和\n",
    "#对于非标量函数需要转换成标量函数然后再进行反向传播求梯度，例如y=x*x\n",
    "x.grad.zero_()\n",
    "y = x * x#x*x是将x的各个元素对应相乘形成的向量即[x1^2,x2^2,x3^2,x4^2]\n",
    "y.sum().backward()#使用sum()函数转换成标量函数\n",
    "x.grad"
   ],
   "metadata": {
    "collapsed": false,
    "pycharm": {
     "name": "#%%\n"
    }
   }
  },
  {
   "cell_type": "code",
   "execution_count": 6,
   "outputs": [
    {
     "name": "stdout",
     "output_type": "stream",
     "text": [
      "tensor([0., 1., 4., 9.])\n"
     ]
    }
   ],
   "source": [
    "x.grad.zero_()\n",
    "y = x * x\n",
    "u = y.detach()#detach()表示将y退化成与x无关的量，也就是y不再是函数，而是一个值为[0., 1., 4., 9.]的向量\n",
    "print(u)"
   ],
   "metadata": {
    "collapsed": false,
    "pycharm": {
     "name": "#%%\n"
    }
   }
  },
  {
   "cell_type": "code",
   "execution_count": 7,
   "outputs": [
    {
     "data": {
      "text/plain": "tensor([True, True, True, True])"
     },
     "execution_count": 7,
     "metadata": {},
     "output_type": "execute_result"
    }
   ],
   "source": [
    "z = u * x#此时u就是一个常数数列，所以z对x求导就等于u\n",
    "z.sum().backward()\n",
    "x.grad == u"
   ],
   "metadata": {
    "collapsed": false,
    "pycharm": {
     "name": "#%%\n"
    }
   }
  },
  {
   "cell_type": "code",
   "execution_count": 8,
   "outputs": [
    {
     "data": {
      "text/plain": "(tensor(-0.7936, requires_grad=True), tensor(204800.), tensor(True))"
     },
     "execution_count": 8,
     "metadata": {},
     "output_type": "execute_result"
    }
   ],
   "source": [
    "#即使构建函数的计算图需要通过python控制流（例如，条件，循环，或者任意函数调用），我们仍然可以计算得到变量的梯度\n",
    "def f(a):\n",
    "    b = a * 2\n",
    "    while b.norm() < 1000:#norm()函数用来求范数，对于向量默认求L2范数（求各元素平方和开方），对于矩阵，默认求Frobenius范数（求各元素平方和开方）\n",
    "        b = b * 2\n",
    "    if b.sum() > 0:\n",
    "        c = b\n",
    "    else:\n",
    "        c = 100*b\n",
    "    return c\n",
    "a = torch.randn(size=(),requires_grad=True)\n",
    "d = f(a)\n",
    "d.backward()\n",
    "a,a.grad,a.grad == d / a#此处a的梯度取决于a的值，a取不同的值，a前面的系数也就不同，不过最终a的梯度就是a前面的系数"
   ],
   "metadata": {
    "collapsed": false,
    "pycharm": {
     "name": "#%%\n"
    }
   }
  },
  {
   "cell_type": "code",
   "execution_count": 8,
   "outputs": [],
   "source": [],
   "metadata": {
    "collapsed": false,
    "pycharm": {
     "name": "#%%\n"
    }
   }
  }
 ],
 "metadata": {
  "kernelspec": {
   "display_name": "Python 3",
   "language": "python",
   "name": "python3"
  },
  "language_info": {
   "codemirror_mode": {
    "name": "ipython",
    "version": 2
   },
   "file_extension": ".py",
   "mimetype": "text/x-python",
   "name": "python",
   "nbconvert_exporter": "python",
   "pygments_lexer": "ipython2",
   "version": "2.7.6"
  }
 },
 "nbformat": 4,
 "nbformat_minor": 0
}